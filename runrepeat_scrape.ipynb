{
 "cells": [
  {
   "cell_type": "code",
   "execution_count": 50,
   "id": "initial_id",
   "metadata": {
    "collapsed": true,
    "ExecuteTime": {
     "end_time": "2023-11-09T21:14:11.112602Z",
     "start_time": "2023-11-09T21:14:10.806206Z"
    }
   },
   "outputs": [],
   "source": [
    "from bs4 import BeautifulSoup\n",
    "import pandas as pd\n",
    "import requests\n",
    "import os\n",
    "from google.cloud import bigquery\n",
    "\n",
    "html = requests.get('https://runrepeat.com/nba-revenue-statistics')\n",
    "soup = BeautifulSoup(html.content, 'html.parser')\n",
    "\n",
    "tables = soup.find_all('table', class_='table table-bordered')"
   ]
  },
  {
   "cell_type": "code",
   "execution_count": 51,
   "id": "6d2268e7fdfa590d",
   "metadata": {
    "collapsed": false,
    "ExecuteTime": {
     "end_time": "2023-11-09T21:14:11.137351Z",
     "start_time": "2023-11-09T21:14:11.117799Z"
    }
   },
   "outputs": [
    {
     "name": "stderr",
     "output_type": "stream",
     "text": [
      "/var/folders/x3/42y9jxy964lg3yyk_9zhss280000gn/T/ipykernel_68513/910569192.py:5: FutureWarning: Passing literal html to 'read_html' is deprecated and will be removed in a future version. To read from a literal string, wrap it in a 'StringIO' object.\n",
      "  df = pd.read_html(str(table))[0]  # Use [0] because read_html returns a list of DataFrames\n",
      "/var/folders/x3/42y9jxy964lg3yyk_9zhss280000gn/T/ipykernel_68513/910569192.py:5: FutureWarning: Passing literal html to 'read_html' is deprecated and will be removed in a future version. To read from a literal string, wrap it in a 'StringIO' object.\n",
      "  df = pd.read_html(str(table))[0]  # Use [0] because read_html returns a list of DataFrames\n",
      "/var/folders/x3/42y9jxy964lg3yyk_9zhss280000gn/T/ipykernel_68513/910569192.py:5: FutureWarning: Passing literal html to 'read_html' is deprecated and will be removed in a future version. To read from a literal string, wrap it in a 'StringIO' object.\n",
      "  df = pd.read_html(str(table))[0]  # Use [0] because read_html returns a list of DataFrames\n",
      "/var/folders/x3/42y9jxy964lg3yyk_9zhss280000gn/T/ipykernel_68513/910569192.py:5: FutureWarning: Passing literal html to 'read_html' is deprecated and will be removed in a future version. To read from a literal string, wrap it in a 'StringIO' object.\n",
      "  df = pd.read_html(str(table))[0]  # Use [0] because read_html returns a list of DataFrames\n"
     ]
    }
   ],
   "source": [
    "dataframes = []\n",
    "filenames = ['rev_by_team', 'ticket_revenue', 'operating_income', 'jersey_patch_sponsorships']\n",
    "\n",
    "for table in tables:\n",
    "    df = pd.read_html(str(table))[0]  # Use [0] because read_html returns a list of DataFrames\n",
    "    header = df.iloc[0]\n",
    "    header[0] = 'Team'\n",
    "    df = df[1:]\n",
    "    df.columns = header\n",
    "    dataframes.append(df)\n",
    "    \n",
    "dataframes[-1].rename(columns={'Jersey patch annual revenue ($ million)': 'jersey_rev_mil'}, inplace=True)"
   ]
  },
  {
   "cell_type": "code",
   "execution_count": 52,
   "id": "622f7acb329997d5",
   "metadata": {
    "collapsed": false,
    "ExecuteTime": {
     "end_time": "2023-11-09T21:14:11.155440Z",
     "start_time": "2023-11-09T21:14:11.137186Z"
    }
   },
   "outputs": [],
   "source": [
    "# set credentials to get access to BQ proj\n",
    "os.environ['GOOGLE_APPLICATION_CREDENTIALS'] = r'/Users/bennett/PycharmProjects/ba775/key.json'\n",
    "\n",
    "# create a client obj to do stuff\n",
    "client = bigquery.Client(project='teamb09')\n",
    "\n",
    "# set up some parameters\n",
    "dataset_id = 'teamb09.web_scrape'\n",
    "job_config = bigquery.LoadJobConfig(autodetect=True, write_disposition='WRITE_TRUNCATE')"
   ]
  },
  {
   "cell_type": "code",
   "execution_count": 53,
   "id": "45067e0b",
   "metadata": {
    "ExecuteTime": {
     "end_time": "2023-11-09T21:14:16.447265Z",
     "start_time": "2023-11-09T21:14:11.176525Z"
    }
   },
   "outputs": [
    {
     "name": "stdout",
     "output_type": "stream",
     "text": [
      "Loaded None rows and 12 columns to teamb09.web_scrape.rev_by_team\n",
      "Loaded None rows and 12 columns to teamb09.web_scrape.ticket_revenue\n",
      "Loaded None rows and 12 columns to teamb09.web_scrape.operating_income\n",
      "Loaded None rows and 2 columns to teamb09.web_scrape.jersey_patch_sponsorships\n"
     ]
    }
   ],
   "source": [
    "for df, file in zip(dataframes, filenames):\n",
    "    \n",
    "    columns = df.columns\n",
    "    data_types = ['STRING'] * len(columns)  # All columns are assumed to be 'STRING' type\n",
    "    schema = [bigquery.SchemaField(name, data_type) for name, data_type in zip(columns, data_types)]\n",
    "\n",
    "    table_id = f'{dataset_id}.{file}'\n",
    "    table = bigquery.Table(table_id, schema=schema)\n",
    "    client.create_table(table)\n",
    "    client.load_table_from_dataframe(df, table_id, job_config=job_config)\n",
    "\n",
    "    print(f'Loaded {table.num_rows} rows and {len(table.schema)} columns to {table_id}')"
   ]
  }
 ],
 "metadata": {
  "kernelspec": {
   "display_name": "Python 3",
   "language": "python",
   "name": "python3"
  },
  "language_info": {
   "codemirror_mode": {
    "name": "ipython",
    "version": 2
   },
   "file_extension": ".py",
   "mimetype": "text/x-python",
   "name": "python",
   "nbconvert_exporter": "python",
   "pygments_lexer": "ipython2",
   "version": "2.7.6"
  }
 },
 "nbformat": 4,
 "nbformat_minor": 5
}
