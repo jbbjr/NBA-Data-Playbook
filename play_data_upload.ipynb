{
 "cells": [
  {
   "cell_type": "code",
   "execution_count": 6,
   "id": "initial_id",
   "metadata": {
    "collapsed": true,
    "ExecuteTime": {
     "end_time": "2023-11-09T21:24:07.129805Z",
     "start_time": "2023-11-09T21:24:07.124005Z"
    }
   },
   "outputs": [],
   "source": [
    "from google.cloud import bigquery\n",
    "import os\n",
    "\n",
    "# set credentials to get access to BQ proj\n",
    "os.environ['GOOGLE_APPLICATION_CREDENTIALS'] = r'/Users/bennett/PycharmProjects/ba775/key.json'\n",
    "\n",
    "# create a client obj to do stuff\n",
    "client = bigquery.Client(project='teamb09')\n",
    "\n",
    "# set up some parameters\n",
    "dataset_id = 'teamb09.kaggle'"
   ]
  },
  {
   "cell_type": "code",
   "execution_count": 7,
   "outputs": [
    {
     "name": "stdout",
     "output_type": "stream",
     "text": [
      "Loaded None rows and 0 columns to teamb09.kaggle.play_data\n"
     ]
    }
   ],
   "source": [
    "table_id = f'{dataset_id}.play_data'\n",
    "table = bigquery.Table(table_id, schema=None)\n",
    "client.create_table(table)\n",
    "job_config = bigquery.LoadJobConfig(autodetect=True, \n",
    "                                    source_format=bigquery.SourceFormat.CSV)\n",
    "\n",
    "with open('/Users/bennett/Downloads/archive-3/play_data.csv', 'rb') as source_file:\n",
    "    job = client.load_table_from_file(\n",
    "        source_file,\n",
    "        table_id,\n",
    "        location='US',\n",
    "        job_config=job_config\n",
    "    )\n",
    "    \n",
    "    client.get_table(table)\n",
    "    print(f'Loaded {table.num_rows} rows and {len(table.schema)} columns to {table_id}')\n"
   ],
   "metadata": {
    "collapsed": false,
    "ExecuteTime": {
     "end_time": "2023-11-09T21:31:52.658641Z",
     "start_time": "2023-11-09T21:24:07.178298Z"
    }
   },
   "id": "9406689fc4d4012d"
  }
 ],
 "metadata": {
  "kernelspec": {
   "display_name": "Python 3",
   "language": "python",
   "name": "python3"
  },
  "language_info": {
   "codemirror_mode": {
    "name": "ipython",
    "version": 2
   },
   "file_extension": ".py",
   "mimetype": "text/x-python",
   "name": "python",
   "nbconvert_exporter": "python",
   "pygments_lexer": "ipython2",
   "version": "2.7.6"
  }
 },
 "nbformat": 4,
 "nbformat_minor": 5
}
